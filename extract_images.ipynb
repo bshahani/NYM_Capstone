{
 "cells": [
  {
   "cell_type": "code",
   "execution_count": null,
   "id": "d1b3a4fc",
   "metadata": {},
   "outputs": [],
   "source": [
    "# install dependencies\n",
    "!pip install --quiet google-cloud-storage\n",
    "!pip install --quiet openpyxl\n",
    "!pip install --quiet opencv-python==4.3.0.36"
   ]
  },
  {
   "cell_type": "code",
   "execution_count": null,
   "id": "0b2aac1f",
   "metadata": {},
   "outputs": [],
   "source": [
    "import pandas as pd\n",
    "import matplotlib\n",
    "import cv2\n",
    "import os\n",
    "from datetime import datetime\n",
    "from google.cloud import storage"
   ]
  },
  {
   "cell_type": "code",
   "execution_count": null,
   "id": "fe1a8e81",
   "metadata": {},
   "outputs": [],
   "source": [
    "# read excel file from bucket\n",
    "bucket_name = 'automated_angle_detection'\n",
    "filepath = \"gs://automated_angle_detection/test_video_data.xlsx\""
   ]
  },
  {
   "cell_type": "code",
   "execution_count": null,
   "id": "8d684cf5",
   "metadata": {},
   "outputs": [],
   "source": [
    "# video = \"https://storage.cloud.google.com/bkt-mets-d-cc212-cmucapstone2022-mlb/VID2022/06/15/0060170/0060170L/0001A.mp4\"\n",
    "# media = blob_metadata('automated_angle_detection','VID2022_06_15_0060170_0060170L_0001A.mp4')\n",
    "# first_part = media.split('?')[0]\n",
    "# print(first_part)\n",
    "# extract_images('tmp/0060170L/0001A.mp4', 'LHH', f)\n",
    "# # https://storage.cloud.google.com/automated_angle_detection/VID2022_06_15_0060170_0060170L_0001A.mp4\n",
    "# # cam = cv2.VideoCapture(video)\n",
    "# # frames = cam.get(cv2.CAP_PROP_FPS)\n",
    "# # print(cam.read())"
   ]
  },
  {
   "cell_type": "code",
   "execution_count": null,
   "id": "422ff4a7",
   "metadata": {},
   "outputs": [],
   "source": [
    "df = pd.read_excel(filepath, sheet_name='Sheet1')"
   ]
  },
  {
   "cell_type": "code",
   "execution_count": null,
   "id": "a57a9a25",
   "metadata": {},
   "outputs": [],
   "source": [
    "def extract_images(path, angle, f, folder):\n",
    "        '''\n",
    "        Read video path\n",
    "        Extract frames from 2-6 seconds\n",
    "        write angle and image path into a csv file\n",
    "        '''\n",
    "        location = path.split('/')\n",
    "        path = 'tmp/'+location[11]+'/'+location[12]\n",
    "        # print(path)\n",
    "        cam = cv2.VideoCapture(path)\n",
    "        cam.set(cv2.CAP_PROP_POS_MSEC,2000)   \n",
    "\n",
    "        try:\n",
    "            # creating a folder named data\n",
    "            if not os.path.exists('data'):\n",
    "                os.makedirs('data')\n",
    "        \n",
    "        # if not created then raise error\n",
    "        except OSError:\n",
    "            print ('Error: Creating directory of data')\n",
    "        \n",
    "        # frame\n",
    "        currentframe = 0\n",
    "        time_skips = float(500)\n",
    "        totalTime = 0 \n",
    "    \n",
    "        #capturing 2-8 seconds of videos to extract images\n",
    "        while(totalTime < 6000):\n",
    "            \n",
    "            # reading from frame\n",
    "            ret,frame = cam.read()\n",
    "            # print(ret,frame)\n",
    "            # add training folder for each training\n",
    "        \n",
    "            if ret:\n",
    "                # if video is still left continue creating images\n",
    "                # replace space with '_'\n",
    "                angle = angle.replace(\" \", \"_\")\n",
    "                \n",
    "                filename = angle+'_'+str(int(datetime.timestamp(datetime.now()))) +str(currentframe)+ '.jpeg'\n",
    "                name = './data/' + filename #path where file is saved\n",
    "                \n",
    "                gcspath = 'gs://automated_angle_detection/images/'+filename\n",
    "                f.write(gcspath + ','+angle+'\\n')\n",
    "                \n",
    "                #skipping by 0.5 seconds\n",
    "                totalTime = (currentframe + 1)*time_skips\n",
    "                cam.set(cv2.CAP_PROP_POS_MSEC,(totalTime)) \n",
    "                # print ('Creating...' + name)\n",
    "        \n",
    "                # writing the extracted images\n",
    "                cv2.imwrite(name, frame, [cv2.IMWRITE_JPEG_QUALITY, 30]) #max size - 100KB (compression)\n",
    "        \n",
    "                # increasing counter so that it will\n",
    "                # show how many frames are created\n",
    "                currentframe += 1\n",
    "                # print(currentframe)\n",
    "                upload_blob(bucket_name, name, 'images/'+filename)\n",
    "            else:\n",
    "                break\n",
    "        \n",
    "        # Release all space and windows once done\n",
    "        cam.release()\n",
    "        cv2.destroyAllWindows()"
   ]
  },
  {
   "cell_type": "code",
   "execution_count": null,
   "id": "7806e2e2",
   "metadata": {},
   "outputs": [],
   "source": [
    "# upload image data to cloud bucket for creating a dataset\n",
    "def upload_blob(bucket_name, source_file_name, destination_blob_name):    \n",
    "\n",
    "    storage_client = storage.Client()\n",
    "    bucket = storage_client.bucket(bucket_name)\n",
    "    blob = bucket.blob(destination_blob_name)\n",
    "    \n",
    "    generation_match_precondition = 0\n",
    "    blob.upload_from_filename(source_file_name, if_generation_match=generation_match_precondition)\n",
    "    \n",
    "    print(f\"File {source_file_name} uploaded to {destination_blob_name}.\")"
   ]
  },
  {
   "cell_type": "code",
   "execution_count": null,
   "id": "996cec67",
   "metadata": {},
   "outputs": [],
   "source": [
    "# create a csv file for dataset creation and store it on gcp bucket\n",
    "f = open('test_angle_image_data.csv','w')"
   ]
  },
  {
   "cell_type": "code",
   "execution_count": null,
   "id": "ee50b72d",
   "metadata": {},
   "outputs": [],
   "source": [
    "df.apply(lambda x: extract_images(x['path'], x['camera_angle'], f), axis=1)\n",
    "f.close()"
   ]
  },
  {
   "cell_type": "code",
   "execution_count": null,
   "id": "01ac05c2",
   "metadata": {},
   "outputs": [],
   "source": [
    "bucket_name = 'automated_angle_detection'\n",
    "file_name = 'test_angle_image_data.csv'\n",
    "\n",
    "client = storage.Client()\n",
    "\n",
    "bucket = client.get_bucket(bucket_name)\n",
    "\n",
    "blob = bucket.blob(file_name)\n",
    "\n",
    "with open(file_name, 'rb') as f:\n",
    "    blob.upload_from_file(f)"
   ]
  }
 ],
 "metadata": {
  "kernelspec": {
   "display_name": "PySpark (Local)",
   "language": "python",
   "name": "local-pyspark"
  },
  "language_info": {
   "codemirror_mode": {
    "name": "ipython",
    "version": 3
   },
   "file_extension": ".py",
   "mimetype": "text/x-python",
   "name": "python",
   "nbconvert_exporter": "python",
   "pygments_lexer": "ipython3",
   "version": "3.7.12"
  }
 },
 "nbformat": 4,
 "nbformat_minor": 5
}
